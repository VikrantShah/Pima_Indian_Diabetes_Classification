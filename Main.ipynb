{
 "cells": [
  {
   "cell_type": "markdown",
   "metadata": {},
   "source": [
    "# Importing the libraries"
   ]
  },
  {
   "cell_type": "code",
   "execution_count": 1,
   "metadata": {},
   "outputs": [],
   "source": [
    "import pandas as pd\n",
    "import numpy as np\n",
    "import matplotlib.pyplot as plt\n",
    "import seaborn as sns\n",
    "import joblib\n",
    "from sklearn import metrics"
   ]
  },
  {
   "cell_type": "markdown",
   "metadata": {},
   "source": [
    "# Importing the dataset"
   ]
  },
  {
   "cell_type": "code",
   "execution_count": 2,
   "metadata": {},
   "outputs": [
    {
     "data": {
      "text/html": [
       "<div>\n",
       "<style scoped>\n",
       "    .dataframe tbody tr th:only-of-type {\n",
       "        vertical-align: middle;\n",
       "    }\n",
       "\n",
       "    .dataframe tbody tr th {\n",
       "        vertical-align: top;\n",
       "    }\n",
       "\n",
       "    .dataframe thead th {\n",
       "        text-align: right;\n",
       "    }\n",
       "</style>\n",
       "<table border=\"1\" class=\"dataframe\">\n",
       "  <thead>\n",
       "    <tr style=\"text-align: right;\">\n",
       "      <th></th>\n",
       "      <th>Pregnancies</th>\n",
       "      <th>Glucose</th>\n",
       "      <th>BloodPressure</th>\n",
       "      <th>SkinThickness</th>\n",
       "      <th>Insulin</th>\n",
       "      <th>BMI</th>\n",
       "      <th>DiabetesPedigreeFunction</th>\n",
       "      <th>Age</th>\n",
       "      <th>Outcome</th>\n",
       "    </tr>\n",
       "  </thead>\n",
       "  <tbody>\n",
       "    <tr>\n",
       "      <th>0</th>\n",
       "      <td>6</td>\n",
       "      <td>148</td>\n",
       "      <td>72</td>\n",
       "      <td>35</td>\n",
       "      <td>0</td>\n",
       "      <td>33.6</td>\n",
       "      <td>0.627</td>\n",
       "      <td>50</td>\n",
       "      <td>1</td>\n",
       "    </tr>\n",
       "    <tr>\n",
       "      <th>1</th>\n",
       "      <td>1</td>\n",
       "      <td>85</td>\n",
       "      <td>66</td>\n",
       "      <td>29</td>\n",
       "      <td>0</td>\n",
       "      <td>26.6</td>\n",
       "      <td>0.351</td>\n",
       "      <td>31</td>\n",
       "      <td>0</td>\n",
       "    </tr>\n",
       "    <tr>\n",
       "      <th>2</th>\n",
       "      <td>8</td>\n",
       "      <td>183</td>\n",
       "      <td>64</td>\n",
       "      <td>0</td>\n",
       "      <td>0</td>\n",
       "      <td>23.3</td>\n",
       "      <td>0.672</td>\n",
       "      <td>32</td>\n",
       "      <td>1</td>\n",
       "    </tr>\n",
       "    <tr>\n",
       "      <th>3</th>\n",
       "      <td>1</td>\n",
       "      <td>89</td>\n",
       "      <td>66</td>\n",
       "      <td>23</td>\n",
       "      <td>94</td>\n",
       "      <td>28.1</td>\n",
       "      <td>0.167</td>\n",
       "      <td>21</td>\n",
       "      <td>0</td>\n",
       "    </tr>\n",
       "    <tr>\n",
       "      <th>4</th>\n",
       "      <td>0</td>\n",
       "      <td>137</td>\n",
       "      <td>40</td>\n",
       "      <td>35</td>\n",
       "      <td>168</td>\n",
       "      <td>43.1</td>\n",
       "      <td>2.288</td>\n",
       "      <td>33</td>\n",
       "      <td>1</td>\n",
       "    </tr>\n",
       "  </tbody>\n",
       "</table>\n",
       "</div>"
      ],
      "text/plain": [
       "   Pregnancies  Glucose  BloodPressure  SkinThickness  Insulin   BMI  \\\n",
       "0            6      148             72             35        0  33.6   \n",
       "1            1       85             66             29        0  26.6   \n",
       "2            8      183             64              0        0  23.3   \n",
       "3            1       89             66             23       94  28.1   \n",
       "4            0      137             40             35      168  43.1   \n",
       "\n",
       "   DiabetesPedigreeFunction  Age  Outcome  \n",
       "0                     0.627   50        1  \n",
       "1                     0.351   31        0  \n",
       "2                     0.672   32        1  \n",
       "3                     0.167   21        0  \n",
       "4                     2.288   33        1  "
      ]
     },
     "execution_count": 2,
     "metadata": {},
     "output_type": "execute_result"
    }
   ],
   "source": [
    "dataset = pd.read_csv(\"diabetes.csv\")\n",
    "dataset.head()"
   ]
  },
  {
   "cell_type": "code",
   "execution_count": 3,
   "metadata": {},
   "outputs": [
    {
     "data": {
      "image/png": "[encoded data removed]",
      "text/plain": [
       "<Figure size 432x288 with 1 Axes>"
      ]
     },
     "metadata": {
      "needs_background": "light"
     },
     "output_type": "display_data"
    }
   ],
   "source": [
    "# Creating countplot using seaborn\n",
    "sns.countplot(x = dataset[\"Outcome\"])\n",
    "plt.title(\"Posttive VS Negative Diabetes Result\")\n",
    "plt.savefig(\"Posttive VS Negative Diabetes Result.jpg\")"
   ]
  },
  {
   "cell_type": "code",
   "execution_count": 4,
   "metadata": {},
   "outputs": [],
   "source": [
    "X = dataset.iloc[:, 0:-1].values\n",
    "y = dataset.iloc[:, -1].values"
   ]
  },
  {
   "cell_type": "markdown",
   "metadata": {},
   "source": [
    "# Splitting the dataset into training and testing set"
   ]
  },
  {
   "cell_type": "code",
   "execution_count": 5,
   "metadata": {},
   "outputs": [],
   "source": [
    "from sklearn.model_selection import train_test_split\n",
    "X_train, X_test, y_train, y_test = train_test_split(X, y, test_size = 0.2, random_state = 0)"
   ]
  },
  {
   "cell_type": "markdown",
   "metadata": {},
   "source": [
    "# Feature Scaling"
   ]
  },
  {
   "cell_type": "code",
   "execution_count": 6,
   "metadata": {},
   "outputs": [],
   "source": [
    "from sklearn.preprocessing import StandardScaler    \n",
    "sc= StandardScaler()      "
   ]
  },
  {
   "cell_type": "code",
   "execution_count": 7,
   "metadata": {},
   "outputs": [],
   "source": [
    "X_train= sc.fit_transform(X_train)    \n",
    "X_test= sc.transform(X_test)"
   ]
  },
  {
   "cell_type": "markdown",
   "metadata": {},
   "source": [
    "---"
   ]
  },
  {
   "cell_type": "markdown",
   "metadata": {},
   "source": [
    "# ANN"
   ]
  },
  {
   "cell_type": "code",
   "execution_count": 8,
   "metadata": {},
   "outputs": [
    {
     "name": "stderr",
     "output_type": "stream",
     "text": [
      "Using TensorFlow backend.\n"
     ]
    }
   ],
   "source": [
    "from keras.models import Sequential\n",
    "from keras.layers import Dense\n",
    "from keras.models import model_from_json"
   ]
  },
  {
   "cell_type": "markdown",
   "metadata": {},
   "source": [
    "## Initalising the ANN"
   ]
  },
  {
   "cell_type": "code",
   "execution_count": 9,
   "metadata": {},
   "outputs": [],
   "source": [
    "model = Sequential()"
   ]
  },
  {
   "cell_type": "markdown",
   "metadata": {},
   "source": [
    "## Adding the layers"
   ]
  },
  {
   "cell_type": "code",
   "execution_count": 10,
   "metadata": {},
   "outputs": [],
   "source": [
    "model.add(Dense(16, input_dim = 8, activation = \"relu\"))\n",
    "model.add(Dense(32, activation = \"relu\"))\n",
    "model.add(Dense(32, activation = \"relu\"))\n",
    "model.add(Dense(64, activation = \"relu\"))\n",
    "model.add(Dense(128, activation = \"relu\"))\n",
    "model.add(Dense(1, activation =\"sigmoid\"))"
   ]
  },
  {
   "cell_type": "code",
   "execution_count": 11,
   "metadata": {},
   "outputs": [
    {
     "name": "stdout",
     "output_type": "stream",
     "text": [
      "Model: \"sequential_1\"\n",
      "_________________________________________________________________\n",
      "Layer (type)                 Output Shape              Param #   \n",
      "=================================================================\n",
      "dense_1 (Dense)              (None, 16)                144       \n",
      "_________________________________________________________________\n",
      "dense_2 (Dense)              (None, 32)                544       \n",
      "_________________________________________________________________\n",
      "dense_3 (Dense)              (None, 32)                1056      \n",
      "_________________________________________________________________\n",
      "dense_4 (Dense)              (None, 64)                2112      \n",
      "_________________________________________________________________\n",
      "dense_5 (Dense)              (None, 128)               8320      \n",
      "_________________________________________________________________\n",
      "dense_6 (Dense)              (None, 1)                 129       \n",
      "=================================================================\n",
      "Total params: 12,305\n",
      "Trainable params: 12,305\n",
      "Non-trainable params: 0\n",
      "_________________________________________________________________\n"
     ]
    }
   ],
   "source": [
    "model.summary()"
   ]
  },
  {
   "cell_type": "markdown",
   "metadata": {},
   "source": [
    "## Compiling & Training the ANN"
   ]
  },
  {
   "cell_type": "code",
   "execution_count": 12,
   "metadata": {},
   "outputs": [
    {
     "name": "stdout",
     "output_type": "stream",
     "text": [
      "Epoch 1/70\n",
      "614/614 [==============================] - 0s 491us/step - loss: 0.6222 - accuracy: 0.6417\n",
      "Epoch 2/70\n",
      "614/614 [==============================] - 0s 143us/step - loss: 0.5168 - accuracy: 0.7345\n",
      "Epoch 3/70\n",
      "614/614 [==============================] - 0s 106us/step - loss: 0.4917 - accuracy: 0.7671\n",
      "Epoch 4/70\n",
      "614/614 [==============================] - 0s 127us/step - loss: 0.4709 - accuracy: 0.7704\n",
      "Epoch 5/70\n",
      "614/614 [==============================] - 0s 101us/step - loss: 0.4531 - accuracy: 0.7818\n",
      "Epoch 6/70\n",
      "614/614 [==============================] - 0s 97us/step - loss: 0.4527 - accuracy: 0.7818\n",
      "Epoch 7/70\n",
      "614/614 [==============================] - 0s 110us/step - loss: 0.4375 - accuracy: 0.7899\n",
      "Epoch 8/70\n",
      "614/614 [==============================] - 0s 119us/step - loss: 0.4180 - accuracy: 0.8062\n",
      "Epoch 9/70\n",
      "614/614 [==============================] - 0s 115us/step - loss: 0.4221 - accuracy: 0.8046\n",
      "Epoch 10/70\n",
      "614/614 [==============================] - 0s 117us/step - loss: 0.4046 - accuracy: 0.8013\n",
      "Epoch 11/70\n",
      "614/614 [==============================] - 0s 120us/step - loss: 0.3800 - accuracy: 0.8306\n",
      "Epoch 12/70\n",
      "614/614 [==============================] - 0s 127us/step - loss: 0.3871 - accuracy: 0.8274\n",
      "Epoch 13/70\n",
      "614/614 [==============================] - 0s 145us/step - loss: 0.3764 - accuracy: 0.8241\n",
      "Epoch 14/70\n",
      "614/614 [==============================] - 0s 145us/step - loss: 0.3547 - accuracy: 0.8339\n",
      "Epoch 15/70\n",
      "614/614 [==============================] - 0s 138us/step - loss: 0.3462 - accuracy: 0.8436\n",
      "Epoch 16/70\n",
      "614/614 [==============================] - 0s 119us/step - loss: 0.3650 - accuracy: 0.8355\n",
      "Epoch 17/70\n",
      "614/614 [==============================] - 0s 115us/step - loss: 0.3377 - accuracy: 0.8485\n",
      "Epoch 18/70\n",
      "614/614 [==============================] - 0s 122us/step - loss: 0.3230 - accuracy: 0.8583\n",
      "Epoch 19/70\n",
      "614/614 [==============================] - 0s 120us/step - loss: 0.2987 - accuracy: 0.8664\n",
      "Epoch 20/70\n",
      "614/614 [==============================] - 0s 140us/step - loss: 0.2880 - accuracy: 0.8746\n",
      "Epoch 21/70\n",
      "614/614 [==============================] - 0s 162us/step - loss: 0.2900 - accuracy: 0.8730\n",
      "Epoch 22/70\n",
      "614/614 [==============================] - 0s 117us/step - loss: 0.2703 - accuracy: 0.8697\n",
      "Epoch 23/70\n",
      "614/614 [==============================] - 0s 101us/step - loss: 0.2760 - accuracy: 0.8811\n",
      "Epoch 24/70\n",
      "614/614 [==============================] - 0s 107us/step - loss: 0.2527 - accuracy: 0.8958\n",
      "Epoch 25/70\n",
      "614/614 [==============================] - 0s 119us/step - loss: 0.2433 - accuracy: 0.8909\n",
      "Epoch 26/70\n",
      "614/614 [==============================] - 0s 133us/step - loss: 0.2462 - accuracy: 0.8925\n",
      "Epoch 27/70\n",
      "614/614 [==============================] - 0s 136us/step - loss: 0.2224 - accuracy: 0.9104\n",
      "Epoch 28/70\n",
      "614/614 [==============================] - 0s 135us/step - loss: 0.2293 - accuracy: 0.8974\n",
      "Epoch 29/70\n",
      "614/614 [==============================] - 0s 133us/step - loss: 0.2311 - accuracy: 0.9007\n",
      "Epoch 30/70\n",
      "614/614 [==============================] - 0s 132us/step - loss: 0.2231 - accuracy: 0.9023\n",
      "Epoch 31/70\n",
      "614/614 [==============================] - 0s 130us/step - loss: 0.2165 - accuracy: 0.8990\n",
      "Epoch 32/70\n",
      "614/614 [==============================] - 0s 125us/step - loss: 0.1935 - accuracy: 0.9088\n",
      "Epoch 33/70\n",
      "614/614 [==============================] - 0s 135us/step - loss: 0.1821 - accuracy: 0.9251\n",
      "Epoch 34/70\n",
      "614/614 [==============================] - 0s 128us/step - loss: 0.1755 - accuracy: 0.9169\n",
      "Epoch 35/70\n",
      "614/614 [==============================] - 0s 133us/step - loss: 0.1629 - accuracy: 0.9300\n",
      "Epoch 36/70\n",
      "614/614 [==============================] - 0s 133us/step - loss: 0.1534 - accuracy: 0.9381\n",
      "Epoch 37/70\n",
      "614/614 [==============================] - 0s 135us/step - loss: 0.1731 - accuracy: 0.9316\n",
      "Epoch 38/70\n",
      "614/614 [==============================] - 0s 112us/step - loss: 0.1412 - accuracy: 0.9446\n",
      "Epoch 39/70\n",
      "614/614 [==============================] - 0s 119us/step - loss: 0.1340 - accuracy: 0.9463\n",
      "Epoch 40/70\n",
      "614/614 [==============================] - 0s 140us/step - loss: 0.1238 - accuracy: 0.9511\n",
      "Epoch 41/70\n",
      "614/614 [==============================] - 0s 141us/step - loss: 0.1302 - accuracy: 0.9332\n",
      "Epoch 42/70\n",
      "614/614 [==============================] - 0s 119us/step - loss: 0.1221 - accuracy: 0.9625\n",
      "Epoch 43/70\n",
      "614/614 [==============================] - 0s 120us/step - loss: 0.1157 - accuracy: 0.9625\n",
      "Epoch 44/70\n",
      "614/614 [==============================] - 0s 130us/step - loss: 0.0961 - accuracy: 0.9625\n",
      "Epoch 45/70\n",
      "614/614 [==============================] - 0s 122us/step - loss: 0.0952 - accuracy: 0.9577\n",
      "Epoch 46/70\n",
      "614/614 [==============================] - 0s 143us/step - loss: 0.1145 - accuracy: 0.9544\n",
      "Epoch 47/70\n",
      "614/614 [==============================] - 0s 133us/step - loss: 0.1004 - accuracy: 0.9642\n",
      "Epoch 48/70\n",
      "614/614 [==============================] - 0s 112us/step - loss: 0.0597 - accuracy: 0.9837\n",
      "Epoch 49/70\n",
      "614/614 [==============================] - 0s 102us/step - loss: 0.0492 - accuracy: 0.9853\n",
      "Epoch 50/70\n",
      "614/614 [==============================] - 0s 127us/step - loss: 0.0495 - accuracy: 0.9870\n",
      "Epoch 51/70\n",
      "614/614 [==============================] - 0s 135us/step - loss: 0.0445 - accuracy: 0.9919\n",
      "Epoch 52/70\n",
      "614/614 [==============================] - 0s 151us/step - loss: 0.0612 - accuracy: 0.9805\n",
      "Epoch 53/70\n",
      "614/614 [==============================] - 0s 154us/step - loss: 0.1533 - accuracy: 0.9446\n",
      "Epoch 54/70\n",
      "614/614 [==============================] - 0s 133us/step - loss: 0.2043 - accuracy: 0.9267\n",
      "Epoch 55/70\n",
      "614/614 [==============================] - 0s 140us/step - loss: 0.1353 - accuracy: 0.9560\n",
      "Epoch 56/70\n",
      "614/614 [==============================] - 0s 127us/step - loss: 0.1131 - accuracy: 0.9642\n",
      "Epoch 57/70\n",
      "614/614 [==============================] - 0s 109us/step - loss: 0.0484 - accuracy: 0.9886\n",
      "Epoch 58/70\n",
      "614/614 [==============================] - 0s 127us/step - loss: 0.0275 - accuracy: 0.9967\n",
      "Epoch 59/70\n",
      "614/614 [==============================] - 0s 97us/step - loss: 0.0227 - accuracy: 0.9967\n",
      "Epoch 60/70\n",
      "614/614 [==============================] - 0s 94us/step - loss: 0.0175 - accuracy: 0.9984\n",
      "Epoch 61/70\n",
      "614/614 [==============================] - 0s 96us/step - loss: 0.0134 - accuracy: 0.9984\n",
      "Epoch 62/70\n",
      "614/614 [==============================] - 0s 115us/step - loss: 0.0113 - accuracy: 1.0000\n",
      "Epoch 63/70\n",
      "614/614 [==============================] - 0s 143us/step - loss: 0.0093 - accuracy: 1.0000\n",
      "Epoch 64/70\n",
      "614/614 [==============================] - 0s 153us/step - loss: 0.0083 - accuracy: 1.0000\n",
      "Epoch 65/70\n",
      "614/614 [==============================] - 0s 125us/step - loss: 0.0127 - accuracy: 0.9984\n",
      "Epoch 66/70\n",
      "614/614 [==============================] - 0s 128us/step - loss: 0.0468 - accuracy: 0.9853\n",
      "Epoch 67/70\n",
      "614/614 [==============================] - 0s 109us/step - loss: 0.1284 - accuracy: 0.9544\n",
      "Epoch 68/70\n",
      "614/614 [==============================] - 0s 127us/step - loss: 0.0982 - accuracy: 0.9691\n",
      "Epoch 69/70\n",
      "614/614 [==============================] - 0s 130us/step - loss: 0.0518 - accuracy: 0.9837\n",
      "Epoch 70/70\n",
      "614/614 [==============================] - 0s 127us/step - loss: 0.0744 - accuracy: 0.9658\n"
     ]
    }
   ],
   "source": [
    "model.compile(optimizer = \"adam\", loss = \"binary_crossentropy\", metrics = [\"accuracy\"])\n",
    "ann_history = model.fit(X_train, y_train, batch_size = 10, epochs = 70)"
   ]
  },
  {
   "cell_type": "markdown",
   "metadata": {},
   "source": [
    "## Visualizing the ANN Training performance"
   ]
  },
  {
   "cell_type": "code",
   "execution_count": 13,
   "metadata": {},
   "outputs": [
    {
     "data": {
      "image/png": "[encoded data removed]",
      "text/plain": [
       "<Figure size 432x288 with 1 Axes>"
      ]
     },
     "metadata": {
      "needs_background": "light"
     },
     "output_type": "display_data"
    }
   ],
   "source": [
    "plt.figure()\n",
    "\n",
    "plt.plot(ann_history.history[\"accuracy\"], label = \"accuracy\")\n",
    "plt.plot(ann_history.history[\"loss\"], label = \"loss\")\n",
    "plt.legend()\n",
    "plt.grid()\n",
    "plt.title(\"Loss Evaluation\")\n",
    "\n",
    "plt.savefig(\"ann_model_history.jpg\")"
   ]
  },
  {
   "cell_type": "markdown",
   "metadata": {},
   "source": [
    "## Displaying the ANN Training Accuracy and Loss"
   ]
  },
  {
   "cell_type": "code",
   "execution_count": 14,
   "metadata": {},
   "outputs": [
    {
     "name": "stdout",
     "output_type": "stream",
     "text": [
      "0.965798 0.07443931483487669\n"
     ]
    }
   ],
   "source": [
    "accuracy = ann_history.history[\"accuracy\"][-1]\n",
    "loss = ann_history.history[\"loss\"][-1]\n",
    "print(accuracy, loss)"
   ]
  },
  {
   "cell_type": "markdown",
   "metadata": {},
   "source": [
    "## Measuring Model Performance"
   ]
  },
  {
   "cell_type": "code",
   "execution_count": 15,
   "metadata": {},
   "outputs": [
    {
     "name": "stdout",
     "output_type": "stream",
     "text": [
      "1.8314843626765462\n"
     ]
    },
    {
     "data": {
      "text/plain": [
       "0.7077922224998474"
      ]
     },
     "execution_count": 15,
     "metadata": {},
     "output_type": "execute_result"
    }
   ],
   "source": [
    "test_loss, test_acc = model.evaluate(X_test, y_test, verbose = 2)\n",
    "print(test_loss)\n",
    "test_acc"
   ]
  },
  {
   "cell_type": "markdown",
   "metadata": {},
   "source": [
    "## Predicting the results for the test set"
   ]
  },
  {
   "cell_type": "code",
   "execution_count": 16,
   "metadata": {},
   "outputs": [
    {
     "name": "stdout",
     "output_type": "stream",
     "text": [
      "[[9.99997497e-01]\n",
      " [3.36945057e-04]\n",
      " [2.60059200e-13]\n",
      " [4.49920297e-02]\n",
      " [2.35947646e-05]\n",
      " [2.30308394e-12]\n",
      " [9.99951839e-01]\n",
      " [9.99989271e-01]\n",
      " [9.86116350e-01]\n",
      " [9.95733619e-01]\n",
      " [9.94086266e-01]\n",
      " [4.77114946e-01]\n",
      " [8.50944707e-06]\n",
      " [8.38190317e-02]\n",
      " [1.13871098e-02]\n",
      " [6.65259361e-03]\n",
      " [9.99982476e-01]\n",
      " [2.43178203e-11]\n",
      " [6.88343585e-01]\n",
      " [1.85102224e-04]\n",
      " [9.88665640e-01]\n",
      " [1.18603522e-04]\n",
      " [5.66329916e-08]\n",
      " [9.99267161e-01]\n",
      " [1.30261579e-10]\n",
      " [9.73250031e-01]\n",
      " [4.27770042e-10]\n",
      " [1.00000000e+00]\n",
      " [6.95534226e-08]\n",
      " [2.39652395e-03]\n",
      " [6.21250272e-03]\n",
      " [9.80454981e-01]\n",
      " [2.44226999e-06]\n",
      " [4.73035753e-01]\n",
      " [2.30809874e-07]\n",
      " [9.75786328e-01]\n",
      " [5.32011807e-01]\n",
      " [5.60061686e-09]\n",
      " [9.99570251e-01]\n",
      " [9.87938166e-01]\n",
      " [5.76695800e-03]\n",
      " [9.43941757e-07]\n",
      " [2.02342868e-03]\n",
      " [9.98888612e-01]\n",
      " [9.99999046e-01]\n",
      " [7.47543567e-17]\n",
      " [2.89815212e-08]\n",
      " [1.65760517e-04]\n",
      " [3.45507264e-03]\n",
      " [2.13587284e-03]\n",
      " [6.68826699e-03]\n",
      " [2.85314309e-05]\n",
      " [1.00000000e+00]\n",
      " [9.60400581e-01]\n",
      " [5.91402948e-02]\n",
      " [4.16322928e-14]\n",
      " [1.03517800e-06]\n",
      " [9.93915796e-01]\n",
      " [1.10702036e-04]\n",
      " [7.35625645e-13]\n",
      " [9.99805093e-01]\n",
      " [9.89592075e-01]\n",
      " [3.63256021e-08]\n",
      " [8.12527835e-01]\n",
      " [4.11756486e-01]\n",
      " [9.99911129e-01]\n",
      " [9.15305138e-01]\n",
      " [3.15994912e-05]\n",
      " [6.02333486e-01]\n",
      " [8.01360607e-03]\n",
      " [1.97503141e-05]\n",
      " [9.99493599e-01]\n",
      " [1.72418356e-03]\n",
      " [9.83291388e-01]\n",
      " [9.99996781e-01]\n",
      " [1.99192762e-03]\n",
      " [7.51155615e-01]\n",
      " [7.35623837e-01]\n",
      " [3.73667644e-05]\n",
      " [6.74003780e-01]\n",
      " [2.32174993e-03]\n",
      " [1.95497274e-03]\n",
      " [8.98790359e-03]\n",
      " [9.21498934e-14]\n",
      " [3.55392694e-04]\n",
      " [1.08870864e-03]\n",
      " [1.80666417e-01]\n",
      " [3.46541405e-04]\n",
      " [1.00000000e+00]\n",
      " [1.97091249e-05]\n",
      " [5.38690984e-01]\n",
      " [2.65449286e-04]\n",
      " [3.11747754e-05]\n",
      " [4.55804144e-12]\n",
      " [9.99998689e-01]\n",
      " [2.66715833e-05]\n",
      " [9.97597158e-01]\n",
      " [6.06301606e-01]\n",
      " [7.60776997e-01]\n",
      " [9.99446511e-01]\n",
      " [9.99987721e-01]\n",
      " [2.09172431e-05]\n",
      " [8.80748034e-04]\n",
      " [3.41688677e-10]\n",
      " [2.17705965e-03]\n",
      " [4.51806188e-03]\n",
      " [5.41590964e-07]\n",
      " [9.99598622e-01]\n",
      " [3.26806360e-09]\n",
      " [2.73105502e-03]\n",
      " [1.30876797e-05]\n",
      " [4.47509259e-01]\n",
      " [9.96169090e-01]\n",
      " [9.99195874e-01]\n",
      " [9.99987960e-01]\n",
      " [9.99977946e-01]\n",
      " [1.73599574e-06]\n",
      " [1.00000000e+00]\n",
      " [1.49385303e-01]\n",
      " [1.00000000e+00]\n",
      " [1.07008517e-02]\n",
      " [1.00000000e+00]\n",
      " [1.98328495e-03]\n",
      " [1.13051385e-01]\n",
      " [5.68169798e-06]\n",
      " [6.43142926e-07]\n",
      " [1.75335467e-01]\n",
      " [1.52507126e-02]\n",
      " [1.13400238e-04]\n",
      " [1.81466341e-04]\n",
      " [6.12027645e-02]\n",
      " [3.39090622e-09]\n",
      " [1.27371749e-07]\n",
      " [2.83145905e-03]\n",
      " [9.44240212e-01]\n",
      " [4.54656780e-02]\n",
      " [2.17407942e-04]\n",
      " [2.59984016e-01]\n",
      " [9.99233484e-01]\n",
      " [7.68452883e-04]\n",
      " [1.13627084e-05]\n",
      " [9.82421160e-01]\n",
      " [6.53079724e-07]\n",
      " [2.85076129e-12]\n",
      " [7.89688349e-01]\n",
      " [3.43545347e-01]\n",
      " [3.47072205e-06]\n",
      " [1.40160322e-04]\n",
      " [1.01604892e-04]\n",
      " [5.34424186e-03]\n",
      " [2.27557466e-05]\n",
      " [2.36025453e-03]\n",
      " [3.64661958e-07]\n",
      " [4.97998029e-04]]\n"
     ]
    }
   ],
   "source": [
    "ann_y_pred = model.predict(X_test)\n",
    "print(ann_y_pred)"
   ]
  },
  {
   "cell_type": "code",
   "execution_count": 19,
   "metadata": {},
   "outputs": [
    {
     "name": "stdout",
     "output_type": "stream",
     "text": [
      "[0 0 0 0 0 0 0 0 0 0 0 0 0 0 0 0 0 0 0 0 0 0 0 0 0 0 0 0 0 0 0 0 0 0 0 0 0\n",
      " 0 0 0 0 0 0 0 0 0 0 0 0 0 0 0 0 0 0 0 0 0 0 0 0 0 0 0 0 0 0 0 0 0 0 0 0 0\n",
      " 0 0 0 0 0 0 0 0 0 0 0 0 0 0 0 0 0 0 0 0 0 0 0 0 0 0 0 0 0 0 0 0 0 0 0 0 0\n",
      " 0 0 0 0 0 0 0 0 0 0 0 0 0 0 0 0 0 0 0 0 0 0 0 0 0 0 0 0 0 0 0 0 0 0 0 0 0\n",
      " 0 0 0 0 0 0]\n"
     ]
    }
   ],
   "source": [
    "ann_y_pred_round = np.argmax(ann_y_pred, axis = -1)\n",
    "print(ann_y_pred_round)"
   ]
  },
  {
   "cell_type": "markdown",
   "metadata": {},
   "source": [
    "## Confusion matrix"
   ]
  },
  {
   "cell_type": "code",
   "execution_count": 20,
   "metadata": {},
   "outputs": [
    {
     "name": "stdout",
     "output_type": "stream",
     "text": [
      "[[107   0]\n",
      " [ 47   0]]\n"
     ]
    }
   ],
   "source": [
    "cm_ann = metrics.confusion_matrix(y_test, ann_y_pred_round)\n",
    "print(cm_ann)"
   ]
  },
  {
   "cell_type": "markdown",
   "metadata": {},
   "source": [
    "## Plotting the Confusion matrix"
   ]
  },
  {
   "cell_type": "code",
   "execution_count": 22,
   "metadata": {},
   "outputs": [
    {
     "data": {
      "image/png": "[encoded data removed]",
      "text/plain": [
       "<Figure size 432x432 with 2 Axes>"
      ]
     },
     "metadata": {
      "needs_background": "light"
     },
     "output_type": "display_data"
    }
   ],
   "source": [
    "plt.figure(figsize = (6, 6))\n",
    "sns.heatmap(cm_ann, annot = True, fmt = \".3f\", linewidths = 0.5, square = True, cmap = \"Blues_r\")\n",
    "plt.xlabel(\"Predicted Label\")\n",
    "plt.ylabel(\"Actual label\")\n",
    "lr_title = \"ANN (Accuracy score : {0})\".format(test_acc)\n",
    "plt.title(lr_title, size = 10)\n",
    "plt.savefig(\"ann_confusion_matrix.jpg\")"
   ]
  },
  {
   "cell_type": "markdown",
   "metadata": {},
   "source": [
    "## Saving the model and weights"
   ]
  },
  {
   "cell_type": "code",
   "execution_count": 23,
   "metadata": {},
   "outputs": [],
   "source": [
    "# Saving the model\n",
    "model_json = model.to_json()\n",
    "with open(\"ann_model.json\", \"w\") as json_file :\n",
    "    json_file.write(model_json)\n",
    "    \n",
    "# Saving the weights\n",
    "model.save_weights(\"ann_model.h5\")"
   ]
  },
  {
   "cell_type": "markdown",
   "metadata": {},
   "source": [
    "## Loading the ANN model and weights"
   ]
  },
  {
   "cell_type": "code",
   "execution_count": 24,
   "metadata": {},
   "outputs": [],
   "source": [
    "json_file = open(\"ann_model.json\", \"r\")\n",
    "loaded_json_model = json_file.read()\n",
    "json_file.close()"
   ]
  },
  {
   "cell_type": "code",
   "execution_count": 25,
   "metadata": {},
   "outputs": [],
   "source": [
    "ann_model = model_from_json(loaded_json_model)"
   ]
  },
  {
   "cell_type": "code",
   "execution_count": 26,
   "metadata": {},
   "outputs": [],
   "source": [
    "ann_model.load_weights(\"ann_model.h5\")"
   ]
  },
  {
   "cell_type": "markdown",
   "metadata": {},
   "source": [
    "---"
   ]
  },
  {
   "cell_type": "markdown",
   "metadata": {},
   "source": [
    " # Logistic Regression"
   ]
  },
  {
   "cell_type": "code",
   "execution_count": 27,
   "metadata": {},
   "outputs": [],
   "source": [
    "from sklearn.linear_model import LogisticRegression"
   ]
  },
  {
   "cell_type": "code",
   "execution_count": 28,
   "metadata": {},
   "outputs": [],
   "source": [
    "lr = LogisticRegression(random_state = 0)"
   ]
  },
  {
   "cell_type": "code",
   "execution_count": 29,
   "metadata": {},
   "outputs": [
    {
     "data": {
      "text/plain": [
       "LogisticRegression(random_state=0)"
      ]
     },
     "execution_count": 29,
     "metadata": {},
     "output_type": "execute_result"
    }
   ],
   "source": [
    "lr.fit(X_train, y_train)"
   ]
  },
  {
   "cell_type": "markdown",
   "metadata": {},
   "source": [
    "## Predicting the results for the test set"
   ]
  },
  {
   "cell_type": "code",
   "execution_count": 30,
   "metadata": {},
   "outputs": [],
   "source": [
    "y_pred = lr.predict(X_test)"
   ]
  },
  {
   "cell_type": "markdown",
   "metadata": {},
   "source": [
    "## Measuring Model Performance"
   ]
  },
  {
   "cell_type": "code",
   "execution_count": 31,
   "metadata": {},
   "outputs": [
    {
     "name": "stdout",
     "output_type": "stream",
     "text": [
      "0.8246753246753247\n"
     ]
    }
   ],
   "source": [
    "lr_score = lr.score(X_test, y_test)\n",
    "print(lr_score)"
   ]
  },
  {
   "cell_type": "markdown",
   "metadata": {},
   "source": [
    "## Confusion matrix"
   ]
  },
  {
   "cell_type": "code",
   "execution_count": 32,
   "metadata": {},
   "outputs": [
    {
     "data": {
      "text/plain": [
       "array([[98,  9],\n",
       "       [18, 29]], dtype=int64)"
      ]
     },
     "execution_count": 32,
     "metadata": {},
     "output_type": "execute_result"
    }
   ],
   "source": [
    "cm_lr = metrics.confusion_matrix(y_test, y_pred) \n",
    "cm_lr"
   ]
  },
  {
   "cell_type": "markdown",
   "metadata": {},
   "source": [
    "# Plotting the Confusion matrix"
   ]
  },
  {
   "cell_type": "code",
   "execution_count": 33,
   "metadata": {},
   "outputs": [
    {
     "data": {
      "image/png": "[encoded data removed]",
      "text/plain": [
       "<Figure size 432x432 with 2 Axes>"
      ]
     },
     "metadata": {
      "needs_background": "light"
     },
     "output_type": "display_data"
    }
   ],
   "source": [
    "plt.figure(figsize = (6, 6))\n",
    "sns.heatmap(cm_lr, annot = True, fmt = \".3f\", linewidths = 0.5, square = True, cmap = \"Blues_r\")\n",
    "plt.xlabel(\"Predicted Label\")\n",
    "plt.ylabel(\"Actual label\")\n",
    "lr_title = \"Logistic Regression (Accuracy score : {0}\".format(lr_score)\n",
    "plt.title(lr_title, size = 10)sns.heatmap(cm_lr, annot = True, fmt = \".3f\", linewidths = 0.5, square = True, cmap = \"Blues_r\")\n",
    "plt.xlabel(\"Predicted Label\")\n",
    "plt.ylabel(\"Actual label\")\n",
    "lr_title = \"Logistic Regression (Accuracy score : {0}\".format(lr_score)\n",
    "plt.title(lr_title, size = 10)\n",
    "plt.savefig(\"logistic_regression_confusion_matrix.jpg\")"
   ]
  },
  {
   "cell_type": "markdown",
   "metadata": {},
   "source": [
    "## Saving the Logistic Regression model"
   ]
  },
  {
   "cell_type": "code",
   "execution_count": 34,
   "metadata": {},
   "outputs": [
    {
     "data": {
      "text/plain": [
       "['logistic_regression_model.pkl']"
      ]
     },
     "execution_count": 34,
     "metadata": {},
     "output_type": "execute_result"
    }
   ],
   "source": [
    "f_lr_name = \"logistic_regression_model.pkl\"\n",
    "joblib.dump(lr, f_lr_name)"
   ]
  },
  {
   "cell_type": "markdown",
   "metadata": {},
   "source": [
    "## Loading the Logistic Regression Model"
   ]
  },
  {
   "cell_type": "code",
   "execution_count": 35,
   "metadata": {},
   "outputs": [],
   "source": [
    "lr_model = joblib.load(f_lr_name)"
   ]
  },
  {
   "cell_type": "code",
   "execution_count": 36,
   "metadata": {},
   "outputs": [
    {
     "name": "stdout",
     "output_type": "stream",
     "text": [
      "0.8246753246753247\n"
     ]
    }
   ],
   "source": [
    "result = lr_model.score(X_test, y_test)\n",
    "print(result)"
   ]
  },
  {
   "cell_type": "markdown",
   "metadata": {},
   "source": [
    "---"
   ]
  },
  {
   "cell_type": "markdown",
   "metadata": {},
   "source": [
    "# KNN"
   ]
  },
  {
   "cell_type": "code",
   "execution_count": 37,
   "metadata": {},
   "outputs": [],
   "source": [
    "from sklearn.neighbors import KNeighborsClassifier"
   ]
  },
  {
   "cell_type": "code",
   "execution_count": 38,
   "metadata": {},
   "outputs": [],
   "source": [
    "knn = KNeighborsClassifier(n_neighbors = 5)"
   ]
  },
  {
   "cell_type": "code",
   "execution_count": 39,
   "metadata": {},
   "outputs": [
    {
     "data": {
      "text/plain": [
       "KNeighborsClassifier()"
      ]
     },
     "execution_count": 39,
     "metadata": {},
     "output_type": "execute_result"
    }
   ],
   "source": [
    "knn.fit(X_train, y_train)"
   ]
  },
  {
   "cell_type": "markdown",
   "metadata": {},
   "source": [
    "## Predicting the results for the test set"
   ]
  },
  {
   "cell_type": "code",
   "execution_count": 40,
   "metadata": {},
   "outputs": [],
   "source": [
    "knn_y_pred = knn.predict(X_test)"
   ]
  },
  {
   "cell_type": "markdown",
   "metadata": {},
   "source": [
    "## Measuring the model performance"
   ]
  },
  {
   "cell_type": "code",
   "execution_count": 41,
   "metadata": {},
   "outputs": [
    {
     "name": "stdout",
     "output_type": "stream",
     "text": [
      "0.7987012987012987\n"
     ]
    }
   ],
   "source": [
    "knn_score = knn.score(X_test, y_test)\n",
    "print(knn_score)"
   ]
  },
  {
   "cell_type": "markdown",
   "metadata": {},
   "source": [
    "## Confusion Matrix"
   ]
  },
  {
   "cell_type": "code",
   "execution_count": 42,
   "metadata": {},
   "outputs": [
    {
     "data": {
      "text/plain": [
       "array([[93, 14],\n",
       "       [17, 30]], dtype=int64)"
      ]
     },
     "execution_count": 42,
     "metadata": {},
     "output_type": "execute_result"
    }
   ],
   "source": [
    "cm_knn = metrics.confusion_matrix(y_test, knn_y_pred)\n",
    "cm_knn"
   ]
  },
  {
   "cell_type": "markdown",
   "metadata": {},
   "source": [
    "## Plotting the confusion matrix"
   ]
  },
  {
   "cell_type": "code",
   "execution_count": 43,
   "metadata": {},
   "outputs": [
    {
     "data": {
      "image/png": "[encoded data removed]",
      "text/plain": [
       "<Figure size 432x432 with 2 Axes>"
      ]
     },
     "metadata": {
      "needs_background": "light"
     },
     "output_type": "display_data"
    }
   ],
   "source": [
    "plt.figure(figsize = (6, 6))\n",
    "sns.heatmap(cm_knn, annot = True, fmt = \".3f\", linewidths = 0.5, square = True, cmap = \"Blues_r\")\n",
    "plt.xlabel(\"Predicted Label\")\n",
    "plt.ylabel(\"Actual label\")\n",
    "lr_title = \"KNN (Accuracy score : {0})\".format(knn_score)\n",
    "plt.title(lr_title, size = 10)\n",
    "plt.savefig(\"knn_confusion_matrix.jpg\")"
   ]
  },
  {
   "cell_type": "markdown",
   "metadata": {},
   "source": [
    "## Saving the KNN model"
   ]
  },
  {
   "cell_type": "code",
   "execution_count": 44,
   "metadata": {},
   "outputs": [
    {
     "data": {
      "text/plain": [
       "['knn_model.pkl']"
      ]
     },
     "execution_count": 44,
     "metadata": {},
     "output_type": "execute_result"
    }
   ],
   "source": [
    "f_knn_name = \"knn_model.pkl\"\n",
    "joblib.dump(knn, f_knn_name)"
   ]
  },
  {
   "cell_type": "markdown",
   "metadata": {},
   "source": [
    "---"
   ]
  },
  {
   "cell_type": "markdown",
   "metadata": {},
   "source": [
    "# SVM Classifier"
   ]
  },
  {
   "cell_type": "code",
   "execution_count": 45,
   "metadata": {},
   "outputs": [],
   "source": [
    "from sklearn.svm import SVC"
   ]
  },
  {
   "cell_type": "code",
   "execution_count": 46,
   "metadata": {},
   "outputs": [],
   "source": [
    "svc = SVC(kernel = \"linear\", random_state = 0)"
   ]
  },
  {
   "cell_type": "code",
   "execution_count": 47,
   "metadata": {},
   "outputs": [
    {
     "data": {
      "text/plain": [
       "SVC(kernel='linear', random_state=0)"
      ]
     },
     "execution_count": 47,
     "metadata": {},
     "output_type": "execute_result"
    }
   ],
   "source": [
    "svc.fit(X_train, y_train)"
   ]
  },
  {
   "cell_type": "markdown",
   "metadata": {},
   "source": [
    "## Predicting the results for the test set"
   ]
  },
  {
   "cell_type": "code",
   "execution_count": 48,
   "metadata": {},
   "outputs": [],
   "source": [
    "svc_y_pred = svc.predict(X_test)"
   ]
  },
  {
   "cell_type": "markdown",
   "metadata": {},
   "source": [
    "## Measuring the model performance"
   ]
  },
  {
   "cell_type": "code",
   "execution_count": 49,
   "metadata": {},
   "outputs": [
    {
     "name": "stdout",
     "output_type": "stream",
     "text": [
      "0.8246753246753247\n"
     ]
    }
   ],
   "source": [
    "svc_score = svc.score(X_test, y_test)\n",
    "print(svc_score)"
   ]
  },
  {
   "cell_type": "markdown",
   "metadata": {},
   "source": [
    "## Confusion Matrix"
   ]
  },
  {
   "cell_type": "code",
   "execution_count": 50,
   "metadata": {},
   "outputs": [
    {
     "data": {
      "text/plain": [
       "array([[98,  9],\n",
       "       [18, 29]], dtype=int64)"
      ]
     },
     "execution_count": 50,
     "metadata": {},
     "output_type": "execute_result"
    }
   ],
   "source": [
    "cm_svc = metrics.confusion_matrix(y_test, svc_y_pred)\n",
    "cm_svc"
   ]
  },
  {
   "cell_type": "markdown",
   "metadata": {},
   "source": [
    "## Plotting the confusion matrix"
   ]
  },
  {
   "cell_type": "code",
   "execution_count": 51,
   "metadata": {},
   "outputs": [
    {
     "data": {
      "image/png": "[encoded data removed]",
      "text/plain": [
       "<Figure size 432x432 with 2 Axes>"
      ]
     },
     "metadata": {
      "needs_background": "light"
     },
     "output_type": "display_data"
    }
   ],
   "source": [
    "plt.figure(figsize = (6, 6))\n",
    "sns.heatmap(cm_svc, annot = True, fmt = \".3f\", linewidths = 0.5, square = True, cmap = \"Blues_r\")\n",
    "plt.xlabel(\"Predicted Label\")\n",
    "plt.ylabel(\"Actual label\")\n",
    "lr_title = \"SVM Classifier (Accuracy score : {0})\".format(svc_score)\n",
    "plt.title(lr_title, size = 10)\n",
    "plt.savefig(\"support_vector_classifier_confusion_matrix.jpg\")"
   ]
  },
  {
   "cell_type": "markdown",
   "metadata": {},
   "source": [
    "## Saving the SVM Classifier model"
   ]
  },
  {
   "cell_type": "code",
   "execution_count": 52,
   "metadata": {},
   "outputs": [
    {
     "data": {
      "text/plain": [
       "['svc_model.pkl']"
      ]
     },
     "execution_count": 52,
     "metadata": {},
     "output_type": "execute_result"
    }
   ],
   "source": [
    "f_svc_name = \"svc_model.pkl\"\n",
    "joblib.dump(svc, f_svc_name)"
   ]
  },
  {
   "cell_type": "markdown",
   "metadata": {},
   "source": [
    "---"
   ]
  },
  {
   "cell_type": "markdown",
   "metadata": {},
   "source": [
    "# Naive Bayes Classifier"
   ]
  },
  {
   "cell_type": "code",
   "execution_count": 53,
   "metadata": {},
   "outputs": [],
   "source": [
    "from sklearn.naive_bayes import GaussianNB"
   ]
  },
  {
   "cell_type": "code",
   "execution_count": 54,
   "metadata": {},
   "outputs": [],
   "source": [
    "nb = GaussianNB()"
   ]
  },
  {
   "cell_type": "code",
   "execution_count": 56,
   "metadata": {},
   "outputs": [
    {
     "data": {
      "text/plain": [
       "GaussianNB()"
      ]
     },
     "execution_count": 56,
     "metadata": {},
     "output_type": "execute_result"
    }
   ],
   "source": [
    "nb.fit(X_train, y_train)"
   ]
  },
  {
   "cell_type": "markdown",
   "metadata": {},
   "source": [
    "## Predicting the results for the test set"
   ]
  },
  {
   "cell_type": "code",
   "execution_count": 57,
   "metadata": {},
   "outputs": [],
   "source": [
    "nb_y_pred = nb.predict(X_test)"
   ]
  },
  {
   "cell_type": "markdown",
   "metadata": {},
   "source": [
    "## Measuring the model performance"
   ]
  },
  {
   "cell_type": "code",
   "execution_count": 58,
   "metadata": {},
   "outputs": [
    {
     "name": "stdout",
     "output_type": "stream",
     "text": [
      "0.7922077922077922\n"
     ]
    }
   ],
   "source": [
    "nb_score = nb.score(X_test, y_test)\n",
    "print(nb_score)"
   ]
  },
  {
   "cell_type": "markdown",
   "metadata": {},
   "source": [
    "## Confusion Matrix"
   ]
  },
  {
   "cell_type": "code",
   "execution_count": 59,
   "metadata": {},
   "outputs": [
    {
     "data": {
      "text/plain": [
       "array([[93, 14],\n",
       "       [18, 29]], dtype=int64)"
      ]
     },
     "execution_count": 59,
     "metadata": {},
     "output_type": "execute_result"
    }
   ],
   "source": [
    "cm_nb = metrics.confusion_matrix(y_test, nb_y_pred)\n",
    "cm_nb"
   ]
  },
  {
   "cell_type": "markdown",
   "metadata": {},
   "source": [
    "## Plotting the confusion matrix"
   ]
  },
  {
   "cell_type": "code",
   "execution_count": 60,
   "metadata": {},
   "outputs": [
    {
     "data": {
      "image/png": "[encoded data removed]",
      "text/plain": [
       "<Figure size 432x432 with 2 Axes>"
      ]
     },
     "metadata": {
      "needs_background": "light"
     },
     "output_type": "display_data"
    }
   ],
   "source": [
    "plt.figure(figsize = (6, 6))\n",
    "sns.heatmap(cm_nb, annot = True, fmt = \".3f\", linewidths = 0.5, square = True, cmap = \"Blues_r\")\n",
    "plt.xlabel(\"Predicted Label\")\n",
    "plt.ylabel(\"Actual label\")\n",
    "lr_title = \"Naive Bayes Classifier (Accuracy score : {0})\".format(nb_score)\n",
    "plt.title(lr_title, size = 10)\n",
    "plt.savefig(\"naive_bayes_classifier_confusion_matrix.jpg\")"
   ]
  },
  {
   "cell_type": "markdown",
   "metadata": {},
   "source": [
    "# Saving the Naive Bayes Model"
   ]
  },
  {
   "cell_type": "code",
   "execution_count": 61,
   "metadata": {},
   "outputs": [
    {
     "data": {
      "text/plain": [
       "['naive_bayes_model.pkl']"
      ]
     },
     "execution_count": 61,
     "metadata": {},
     "output_type": "execute_result"
    }
   ],
   "source": [
    "f_nb_name = \"naive_bayes_model.pkl\"\n",
    "joblib.dump(nb, f_nb_name)"
   ]
  },
  {
   "cell_type": "markdown",
   "metadata": {},
   "source": [
    "---"
   ]
  },
  {
   "cell_type": "markdown",
   "metadata": {},
   "source": [
    "# Decision Tree Algorithm"
   ]
  },
  {
   "cell_type": "code",
   "execution_count": 62,
   "metadata": {},
   "outputs": [],
   "source": [
    "from sklearn.tree import DecisionTreeClassifier"
   ]
  },
  {
   "cell_type": "code",
   "execution_count": 63,
   "metadata": {},
   "outputs": [],
   "source": [
    "dtc = DecisionTreeClassifier(criterion = \"entropy\", random_state = 0)"
   ]
  },
  {
   "cell_type": "code",
   "execution_count": 64,
   "metadata": {},
   "outputs": [
    {
     "data": {
      "text/plain": [
       "DecisionTreeClassifier(criterion='entropy', random_state=0)"
      ]
     },
     "execution_count": 64,
     "metadata": {},
     "output_type": "execute_result"
    }
   ],
   "source": [
    "dtc.fit(X_train, y_train)"
   ]
  },
  {
   "cell_type": "markdown",
   "metadata": {},
   "source": [
    "## Predicting the results for the test set"
   ]
  },
  {
   "cell_type": "code",
   "execution_count": 65,
   "metadata": {},
   "outputs": [],
   "source": [
    "dtc_y_pred = dtc.predict(X_test)"
   ]
  },
  {
   "cell_type": "markdown",
   "metadata": {},
   "source": [
    "## Measuring the model performance"
   ]
  },
  {
   "cell_type": "code",
   "execution_count": 66,
   "metadata": {},
   "outputs": [
    {
     "name": "stdout",
     "output_type": "stream",
     "text": [
      "0.7077922077922078\n"
     ]
    }
   ],
   "source": [
    "dtc_score = dtc.score(X_test, y_test)\n",
    "print(dtc_score)"
   ]
  },
  {
   "cell_type": "markdown",
   "metadata": {},
   "source": [
    "## Confusion Matrix"
   ]
  },
  {
   "cell_type": "code",
   "execution_count": 67,
   "metadata": {},
   "outputs": [
    {
     "data": {
      "text/plain": [
       "array([[79, 28],\n",
       "       [17, 30]], dtype=int64)"
      ]
     },
     "execution_count": 67,
     "metadata": {},
     "output_type": "execute_result"
    }
   ],
   "source": [
    "cm_dtc = metrics.confusion_matrix(y_test, dtc_y_pred)\n",
    "cm_dtc"
   ]
  },
  {
   "cell_type": "markdown",
   "metadata": {},
   "source": [
    "## Plotting the confusion matrix"
   ]
  },
  {
   "cell_type": "code",
   "execution_count": 68,
   "metadata": {},
   "outputs": [
    {
     "data": {
      "image/png": "[encoded data removed]",
      "text/plain": [
       "<Figure size 432x432 with 2 Axes>"
      ]
     },
     "metadata": {
      "needs_background": "light"
     },
     "output_type": "display_data"
    }
   ],
   "source": [
    "plt.figure(figsize = (6, 6))\n",
    "sns.heatmap(cm_dtc, annot = True, fmt = \".3f\", linewidths = 0.5, square = True, cmap = \"Blues_r\")\n",
    "plt.xlabel(\"Predicted Label\")\n",
    "plt.ylabel(\"Actual label\")\n",
    "lr_title = \"Decision Tree Classifier (Accuracy score : {0})\".format(dtc_score)\n",
    "plt.title(lr_title, size = 10)\n",
    "plt.savefig(\"decision_tree_classifier_confusion_matrix.jpg\")"
   ]
  },
  {
   "cell_type": "markdown",
   "metadata": {},
   "source": [
    "# Saving the Decision Tree Model"
   ]
  },
  {
   "cell_type": "code",
   "execution_count": 69,
   "metadata": {},
   "outputs": [
    {
     "data": {
      "text/plain": [
       "['decision_tree_classifier_model.pkl']"
      ]
     },
     "execution_count": 69,
     "metadata": {},
     "output_type": "execute_result"
    }
   ],
   "source": [
    "f_dtc_name = \"decision_tree_classifier_model.pkl\"\n",
    "joblib.dump(dtc, f_dtc_name)"
   ]
  },
  {
   "cell_type": "markdown",
   "metadata": {},
   "source": [
    "---"
   ]
  },
  {
   "cell_type": "markdown",
   "metadata": {},
   "source": [
    "# Random Forest Classifier"
   ]
  },
  {
   "cell_type": "code",
   "execution_count": 70,
   "metadata": {},
   "outputs": [],
   "source": [
    "from sklearn.ensemble import RandomForestClassifier"
   ]
  },
  {
   "cell_type": "code",
   "execution_count": 71,
   "metadata": {},
   "outputs": [],
   "source": [
    "rfc = RandomForestClassifier(n_estimators = 10, criterion = \"entropy\")"
   ]
  },
  {
   "cell_type": "code",
   "execution_count": 72,
   "metadata": {},
   "outputs": [
    {
     "data": {
      "text/plain": [
       "RandomForestClassifier(criterion='entropy', n_estimators=10)"
      ]
     },
     "execution_count": 72,
     "metadata": {},
     "output_type": "execute_result"
    }
   ],
   "source": [
    "rfc.fit(X_train, y_train)"
   ]
  },
  {
   "cell_type": "markdown",
   "metadata": {},
   "source": [
    "## Predicting the results for the test set"
   ]
  },
  {
   "cell_type": "code",
   "execution_count": 73,
   "metadata": {},
   "outputs": [],
   "source": [
    "rfc_y_pred = rfc.predict(X_test)"
   ]
  },
  {
   "cell_type": "markdown",
   "metadata": {},
   "source": [
    "## Measuring the model performance"
   ]
  },
  {
   "cell_type": "code",
   "execution_count": 74,
   "metadata": {},
   "outputs": [
    {
     "name": "stdout",
     "output_type": "stream",
     "text": [
      "0.8246753246753247\n"
     ]
    }
   ],
   "source": [
    "rfc_score = rfc.score(X_test, y_test)\n",
    "print(rfc_score)"
   ]
  },
  {
   "cell_type": "markdown",
   "metadata": {},
   "source": [
    "## Confusion Matrix"
   ]
  },
  {
   "cell_type": "code",
   "execution_count": 75,
   "metadata": {},
   "outputs": [
    {
     "data": {
      "text/plain": [
       "array([[96, 11],\n",
       "       [16, 31]], dtype=int64)"
      ]
     },
     "execution_count": 75,
     "metadata": {},
     "output_type": "execute_result"
    }
   ],
   "source": [
    "cm_rfc = metrics.confusion_matrix(y_test, rfc_y_pred)\n",
    "cm_rfc"
   ]
  },
  {
   "cell_type": "markdown",
   "metadata": {},
   "source": [
    "## Plotting the confusion matrix"
   ]
  },
  {
   "cell_type": "code",
   "execution_count": 76,
   "metadata": {},
   "outputs": [
    {
     "data": {
      "image/png": "[encoded data removed]",
      "text/plain": [
       "<Figure size 432x432 with 2 Axes>"
      ]
     },
     "metadata": {
      "needs_background": "light"
     },
     "output_type": "display_data"
    }
   ],
   "source": [
    "plt.figure(figsize = (6, 6))\n",
    "sns.heatmap(cm_rfc, annot = True, fmt = \".3f\", linewidths = 0.5, square = True, cmap = \"Blues_r\")\n",
    "plt.xlabel(\"Predicted Label\")\n",
    "plt.ylabel(\"Actual label\")\n",
    "lr_title = \"Random Forest Classifier (Accuracy score : {0})\".format(rfc_score)\n",
    "plt.title(lr_title, size = 10)\n",
    "plt.savefig(\"random_forest_classifier_confusion_matrix.jpg\")"
   ]
  },
  {
   "cell_type": "markdown",
   "metadata": {},
   "source": [
    "# Saving the Random Forest Classifier Model"
   ]
  },
  {
   "cell_type": "code",
   "execution_count": 77,
   "metadata": {},
   "outputs": [
    {
     "data": {
      "text/plain": [
       "['random_forest_classifier_model.pkl']"
      ]
     },
     "execution_count": 77,
     "metadata": {},
     "output_type": "execute_result"
    }
   ],
   "source": [
    "f_rfc_name = \"random_forest_classifier_model.pkl\"\n",
    "joblib.dump(rfc, f_rfc_name)"
   ]
  },
  {
   "cell_type": "markdown",
   "metadata": {},
   "source": [
    "---"
   ]
  },
  {
   "cell_type": "markdown",
   "metadata": {},
   "source": [
    "# Plotting all the confusion matrix with accuracy"
   ]
  },
  {
   "cell_type": "code",
   "execution_count": 89,
   "metadata": {},
   "outputs": [
    {
     "data": {
      "image/png": "[encoded data removed]",
      "text/plain": [
       "<Figure size 1728x792 with 14 Axes>"
      ]
     },
     "metadata": {
      "needs_background": "light"
     },
     "output_type": "display_data"
    }
   ],
   "source": [
    "plt.figure(figsize = (24, 11))\n",
    "\n",
    "plt.subplot(2, 4, 1)\n",
    "sns.heatmap(cm_ann, annot = True, fmt = \".3f\", linewidths = 0.5, square = True, cmap = \"Blues_r\")\n",
    "plt.xlabel(\"Predicted Label\")\n",
    "plt.ylabel(\"Actual label\")\n",
    "lr_title = \"ANN (Accuracy score : {0})\".format(test_acc)\n",
    "plt.title(lr_title, size = 10)\n",
    "\n",
    "plt.subplot(2, 4, 2)\n",
    "sns.heatmap(cm_lr, annot = True, fmt = \".3f\", linewidths = 0.5, square = True, cmap = \"Blues_r\")\n",
    "plt.xlabel(\"Predicted Label\")\n",
    "plt.ylabel(\"Actual label\")\n",
    "lr_title = \"Logistic Regression (Accuracy score : {0}\".format(lr_score)\n",
    "plt.title(lr_title, size = 10)\n",
    "\n",
    "plt.subplot(2, 4, 3)\n",
    "sns.heatmap(cm_knn, annot = True, fmt = \".3f\", linewidths = 0.5, square = True, cmap = \"Blues_r\")\n",
    "plt.xlabel(\"Predicted Label\")\n",
    "plt.ylabel(\"Actual label\")\n",
    "lr_title = \"KNN (Accuracy score : {0})\".format(knn_score)\n",
    "plt.title(lr_title, size = 10)\n",
    "\n",
    "plt.subplot(2, 4, 4)\n",
    "sns.heatmap(cm_svc, annot = True, fmt = \".3f\", linewidths = 0.5, square = True, cmap = \"Blues_r\")\n",
    "plt.xlabel(\"Predicted Label\")\n",
    "plt.ylabel(\"Actual label\")\n",
    "lr_title = \"SVM Classifier (Accuracy score : {0})\".format(svc_score)\n",
    "plt.title(lr_title, size = 10)\n",
    "\n",
    "plt.subplot(2, 4, 5)\n",
    "sns.heatmap(cm_nb, annot = True, fmt = \".3f\", linewidths = 0.5, square = True, cmap = \"Blues_r\")\n",
    "plt.xlabel(\"Predicted Label\")\n",
    "plt.ylabel(\"Actual label\")\n",
    "lr_title = \"Naive Bayes Classifier (Accuracy score : {0})\".format(nb_score)\n",
    "plt.title(lr_title, size = 10)\n",
    "\n",
    "plt.subplot(2, 4, 6)\n",
    "sns.heatmap(cm_dtc, annot = True, fmt = \".3f\", linewidths = 0.5, square = True, cmap = \"Blues_r\")\n",
    "plt.xlabel(\"Predicted Label\")\n",
    "plt.ylabel(\"Actual label\")\n",
    "lr_title = \"Decision Tree Classifier (Accuracy score : {0})\".format(dtc_score)\n",
    "plt.title(lr_title, size = 10)\n",
    "\n",
    "plt.subplot(2, 4, 7)\n",
    "sns.heatmap(cm_rfc, annot = True, fmt = \".3f\", linewidths = 0.5, square = True, cmap = \"Blues_r\")\n",
    "plt.xlabel(\"Predicted Label\")\n",
    "plt.ylabel(\"Actual label\")\n",
    "lr_title = \"Random Forest Classifier (Accuracy score : {0})\".format(rfc_score)\n",
    "plt.title(lr_title, size = 10)\n",
    "\n",
    "plt.tight_layout()\n",
    "\n",
    "plt.savefig(\"confusion_matrix_with_accuracy.jpg\")"
   ]
  },
  {
   "cell_type": "code",
   "execution_count": null,
   "metadata": {},
   "outputs": [],
   "source": []
  }
 ],
 "metadata": {
  "kernelspec": {
   "display_name": "Python 3",
   "language": "python",
   "name": "python3"
  },
  "language_info": {
   "codemirror_mode": {
    "name": "ipython",
    "version": 3
   },
   "file_extension": ".py",
   "mimetype": "text/x-python",
   "name": "python",
   "nbconvert_exporter": "python",
   "pygments_lexer": "ipython3",
   "version": "3.7.6"
  }
 },
 "nbformat": 4,
 "nbformat_minor": 4
}
